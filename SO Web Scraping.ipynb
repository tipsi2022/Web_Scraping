{
 "cells": [
  {
   "cell_type": "code",
   "execution_count": 11,
   "id": "6b1c345a",
   "metadata": {},
   "outputs": [],
   "source": [
    "import time\n",
    "import requests\n",
    "import pandas as pd\n",
    "from requests_html import HTML"
   ]
  },
  {
   "cell_type": "code",
   "execution_count": 12,
   "id": "9ce0b509",
   "metadata": {},
   "outputs": [
    {
     "name": "stdout",
     "output_type": "stream",
     "text": [
      "Enter tag you want to scrap --> ios\n",
      "Enter Query Filter(Newest, Active, Votes) --> Votes\n",
      "Enter Maximum Pages you want to scrap --> 50\n",
      "Enter maximum page size(15, 30, 50) --> 50\n"
     ]
    }
   ],
   "source": [
    "tag = input('Enter tag you want to scrap --> ')\n",
    "query_filter = input('Enter Query Filter(Newest, Active, Votes) --> ')\n",
    "max_page = int(input('Enter Maximum Pages you want to scrap --> '))\n",
    "page_size = int(input('Enter maximum page size(15, 30, 50) --> '))"
   ]
  },
  {
   "cell_type": "code",
   "execution_count": 14,
   "id": "28fbca86",
   "metadata": {},
   "outputs": [],
   "source": [
    "def clean_data(text, keyname):\n",
    "    if keyname == 'votes':\n",
    "        return text.replace('\\nvotes', '')\n",
    "    if keyname == 'tags':\n",
    "        return text.replace(' ', ', ')\n",
    "    else:\n",
    "        return text"
   ]
  },
  {
   "cell_type": "code",
   "execution_count": 15,
   "id": "8deb51ae",
   "metadata": {},
   "outputs": [],
   "source": [
    "def parse_tagged_page(html):\n",
    "    question_summuries = html.find('.question-summary')\n",
    "    \n",
    "    key_names = ['question', 'votes', 'tags']\n",
    "    classes_needed = ['.question-hyperlink', '.vote', '.tags']\n",
    "    \n",
    "    datas = []  \n",
    "    for q_el in question_summuries:\n",
    "        ques_data = {}\n",
    "        for i, _class in enumerate(classes_needed):\n",
    "            sub_el = q_el.find(_class, first=True).text\n",
    "            ques_data[key_names[i]] = clean_data(sub_el, key_names[i])\n",
    "        datas.append(ques_data)\n",
    "    \n",
    "    return datas"
   ]
  },
  {
   "cell_type": "code",
   "execution_count": 16,
   "id": "932f0ebc",
   "metadata": {},
   "outputs": [],
   "source": [
    "def extract_data_url(url):\n",
    "    r = requests.get(url)\n",
    "    if r.status_code not in range (200, 299):\n",
    "        return []\n",
    "    else:\n",
    "        html_str = r.text\n",
    "        html = HTML(html=html_str)\n",
    "        return parse_tagged_page(html)"
   ]
  },
  {
   "cell_type": "code",
   "execution_count": 17,
   "id": "72684bcb",
   "metadata": {},
   "outputs": [],
   "source": [
    "def get_url(tag, query_filter, max_page, page_size):\n",
    "    base_url = 'https://stackoverflow.com/questions/tagged/'\n",
    "    \n",
    "    datas = []\n",
    "    for p in range(max_page):\n",
    "        page_num = str(p + 1)\n",
    "        url = f\"{base_url}{tag}?tab={query_filter}&page={page_num}&pagesize={page_size}\"\n",
    "        datas += extract_data_url(url)\n",
    "        time.sleep(1.2)\n",
    "        \n",
    "    return datas"
   ]
  },
  {
   "cell_type": "code",
   "execution_count": 18,
   "id": "39ee5298",
   "metadata": {},
   "outputs": [
    {
     "data": {
      "text/plain": [
       "{'question': 'Vertically align text to top within a UILabel',\n",
       " 'votes': '2259',\n",
       " 'tags': 'ios, cocoa-touch, uikit, uilabel, text-alignment'}"
      ]
     },
     "execution_count": 18,
     "metadata": {},
     "output_type": "execute_result"
    }
   ],
   "source": [
    "datas = get_url(tag, query_filter, max_page, page_size)\n",
    "datas[0]"
   ]
  },
  {
   "cell_type": "code",
   "execution_count": 20,
   "id": "6892d71a",
   "metadata": {},
   "outputs": [
    {
     "data": {
      "text/html": [
       "<div>\n",
       "<style scoped>\n",
       "    .dataframe tbody tr th:only-of-type {\n",
       "        vertical-align: middle;\n",
       "    }\n",
       "\n",
       "    .dataframe tbody tr th {\n",
       "        vertical-align: top;\n",
       "    }\n",
       "\n",
       "    .dataframe thead th {\n",
       "        text-align: right;\n",
       "    }\n",
       "</style>\n",
       "<table border=\"1\" class=\"dataframe\">\n",
       "  <thead>\n",
       "    <tr style=\"text-align: right;\">\n",
       "      <th></th>\n",
       "      <th>question</th>\n",
       "      <th>votes</th>\n",
       "      <th>tags</th>\n",
       "    </tr>\n",
       "  </thead>\n",
       "  <tbody>\n",
       "    <tr>\n",
       "      <th>0</th>\n",
       "      <td>Vertically align text to top within a UILabel</td>\n",
       "      <td>2259</td>\n",
       "      <td>ios, cocoa-touch, uikit, uilabel, text-alignment</td>\n",
       "    </tr>\n",
       "    <tr>\n",
       "      <th>1</th>\n",
       "      <td>What's the difference between the atomic and n...</td>\n",
       "      <td>1891</td>\n",
       "      <td>ios, objective-c, properties, atomic, nonatomic</td>\n",
       "    </tr>\n",
       "    <tr>\n",
       "      <th>2</th>\n",
       "      <td>How can I make a UITextField move up when the ...</td>\n",
       "      <td>1737</td>\n",
       "      <td>ios, objective-c, uiscrollview, uitextfield, u...</td>\n",
       "    </tr>\n",
       "    <tr>\n",
       "      <th>3</th>\n",
       "      <td>Using Auto Layout in UITableView for dynamic c...</td>\n",
       "      <td>1559</td>\n",
       "      <td>ios, uitableview, autolayout, row-height</td>\n",
       "    </tr>\n",
       "    <tr>\n",
       "      <th>4</th>\n",
       "      <td>Transport security has blocked a cleartext HTTP</td>\n",
       "      <td>1522</td>\n",
       "      <td>ios, xcode, ios9, ios10, app-transport-security</td>\n",
       "    </tr>\n",
       "  </tbody>\n",
       "</table>\n",
       "</div>"
      ],
      "text/plain": [
       "                                            question votes  \\\n",
       "0      Vertically align text to top within a UILabel  2259   \n",
       "1  What's the difference between the atomic and n...  1891   \n",
       "2  How can I make a UITextField move up when the ...  1737   \n",
       "3  Using Auto Layout in UITableView for dynamic c...  1559   \n",
       "4    Transport security has blocked a cleartext HTTP  1522   \n",
       "\n",
       "                                                tags  \n",
       "0   ios, cocoa-touch, uikit, uilabel, text-alignment  \n",
       "1    ios, objective-c, properties, atomic, nonatomic  \n",
       "2  ios, objective-c, uiscrollview, uitextfield, u...  \n",
       "3           ios, uitableview, autolayout, row-height  \n",
       "4    ios, xcode, ios9, ios10, app-transport-security  "
      ]
     },
     "execution_count": 20,
     "metadata": {},
     "output_type": "execute_result"
    }
   ],
   "source": [
    "df = pd.DataFrame(datas)\n",
    "df.head()"
   ]
  },
  {
   "cell_type": "code",
   "execution_count": null,
   "id": "61a54e6b",
   "metadata": {},
   "outputs": [],
   "source": [
    "df.to_csv('stack_overflow.csv')"
   ]
  }
 ],
 "metadata": {
  "kernelspec": {
   "display_name": "Python 3 (ipykernel)",
   "language": "python",
   "name": "python3"
  },
  "language_info": {
   "codemirror_mode": {
    "name": "ipython",
    "version": 3
   },
   "file_extension": ".py",
   "mimetype": "text/x-python",
   "name": "python",
   "nbconvert_exporter": "python",
   "pygments_lexer": "ipython3",
   "version": "3.7.7"
  }
 },
 "nbformat": 4,
 "nbformat_minor": 5
}
